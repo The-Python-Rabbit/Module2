{
 "cells": [
  {
   "cell_type": "markdown",
   "metadata": {},
   "source": [
    "1. Print out a data type of a variable?"
   ]
  },
  {
   "cell_type": "code",
   "execution_count": 6,
   "metadata": {},
   "outputs": [
    {
     "name": "stdout",
     "output_type": "stream",
     "text": [
      "<class 'str'>\n",
      "<class 'int'>\n",
      "<class 'float'>\n"
     ]
    }
   ],
   "source": [
    "print (type (\"Hello World\"))\n",
    "print (type (123))\n",
    "print (type(14.365))"
   ]
  },
  {
   "cell_type": "markdown",
   "metadata": {},
   "source": [
    "2. Round 4.5667 to the nearest hundreth using a build-in function, round()."
   ]
  },
  {
   "cell_type": "code",
   "execution_count": 7,
   "metadata": {},
   "outputs": [
    {
     "data": {
      "text/plain": [
       "4.57"
      ]
     },
     "execution_count": 7,
     "metadata": {},
     "output_type": "execute_result"
    }
   ],
   "source": [
    "round (4.5667,2)"
   ]
  },
  {
   "cell_type": "markdown",
   "metadata": {},
   "source": [
    "3. Convert \"657\" to an integer data type"
   ]
  },
  {
   "cell_type": "code",
   "execution_count": 8,
   "metadata": {},
   "outputs": [
    {
     "data": {
      "text/plain": [
       "657"
      ]
     },
     "execution_count": 8,
     "metadata": {},
     "output_type": "execute_result"
    }
   ],
   "source": [
    "int (\"657\")"
   ]
  },
  {
   "cell_type": "markdown",
   "metadata": {},
   "source": [
    "4. Write a function to calculate the miles per gallon.\n",
    "Get a miles driven and gallons used from a user and call your function to calculate the miles per gallon. "
   ]
  },
  {
   "cell_type": "code",
   "execution_count": 27,
   "metadata": {},
   "outputs": [
    {
     "name": "stdout",
     "output_type": "stream",
     "text": [
      "Enter number of miles driven: 120\n",
      "Enter number of gallons used: 4.6\n",
      "Miles per gallon =           26.09\n"
     ]
    }
   ],
   "source": [
    "def calc_mpg (m,g):\n",
    "    mpg = m/g\n",
    "    print (f\"Miles per gallon =           {mpg:,.2f}\")\n",
    "\n",
    "miles = float (input (\"Enter number of miles driven: \"))\n",
    "gallons = float (input (\"Enter number of gallons used: \"))\n",
    "calc_mpg (miles,gallons)\n"
   ]
  },
  {
   "cell_type": "markdown",
   "metadata": {},
   "source": [
    "5. Enhance your function from exercise 3. Additionally, get a gas price per gallon from a user and write a program to compute the total gas cost and cost per mile. \n",
    "\n",
    "The output should look something like this:\n",
    "\n",
    "    Enter miles driven:            150\n",
    "    Enter gallons of gas used:     15\n",
    "    Enter cost per gallon:          3\n",
    "\n",
    "    Miles Per Gallon:   10.0\n",
    "    Total Gas Cost:     45.0\n",
    "    Cost per Mile:      0.3\n"
   ]
  },
  {
   "cell_type": "code",
   "execution_count": 24,
   "metadata": {},
   "outputs": [
    {
     "name": "stdout",
     "output_type": "stream",
     "text": [
      "Enter number of miles driven: 120\n",
      "Enter number of gallons used: 4\n",
      "Enter cost per gallon:        3\n",
      "\n",
      "Miles per gallon:\t 30.0\n",
      "Total Gas Cost: \t 12.0\n",
      "Cost per Mile: \t\t 0.1\n"
     ]
    }
   ],
   "source": [
    "def calc_mpg (m,g,c):\n",
    "    mpg = m/g\n",
    "    total_cost = c*g\n",
    "    cpm=total_cost/m\n",
    "    print (f\"\\nMiles per gallon:\\t {mpg:,.1f}\")\n",
    "    print (f\"Total Gas Cost: \\t {total_cost:,.1f}\")\n",
    "    print (f\"Cost per Mile: \\t\\t {cpm:,.1f}\")\n",
    "\n",
    "miles = float (input (\"Enter number of miles driven: \"))\n",
    "gallons = float (input (\"Enter number of gallons used: \"))\n",
    "cost = float (input (\"Enter cost per gallon:        \"))\n",
    "calc_mpg (miles,gallons,cost)"
   ]
  },
  {
   "cell_type": "markdown",
   "metadata": {},
   "source": [
    "6. Write a function called multiply_two() that accepts two parameters. The function should print a message like '15 + 2 = 17'.  Randomly generate two numbers between 1 and 100, then call the function with the two random numbers."
   ]
  },
  {
   "cell_type": "code",
   "execution_count": 38,
   "metadata": {},
   "outputs": [
    {
     "name": "stdout",
     "output_type": "stream",
     "text": [
      "i1= 34\n",
      "34 + 95 = 129\n",
      "34 * 95 = 3230\n"
     ]
    }
   ],
   "source": [
    "import random as rand\n",
    "def multiply_two(i1,i2):\n",
    "    print (f\"i1= {i1}\")\n",
    "    print (f\"{i1} + {i2} = {i1+i2}\")\n",
    "    print (f\"{i1} * {i2} = {i1*i2}\")\n",
    " \n",
    "# I wasn't sure if we should multiply the numbers or add them, so I did both\n",
    "\n",
    "int1 = rand.randint(1,100)\n",
    "int2 = rand.randint(1,100)\n",
    "multiply_two(int1,int2)"
   ]
  },
  {
   "cell_type": "markdown",
   "metadata": {},
   "source": [
    "7. Write a function called make_shirt() that accepts a size and the text of a message. The function should print a sentence summarizing the size of the shirt and the message printed on it. The default shirt size is large and default message is 'I love Python!' Make a default size shirt with a message, a medium shirt with the default message, and a shirt of any size with a different message."
   ]
  },
  {
   "cell_type": "code",
   "execution_count": 22,
   "metadata": {},
   "outputs": [
    {
     "name": "stdout",
     "output_type": "stream",
     "text": [
      "\n",
      "Shirt size is: Large\n",
      "Important message: I love Python\n",
      "\n",
      "Shirt size is: Medium\n",
      "Important message: I love Python\n",
      "\n",
      "Shirt size is: Small\n",
      "Important message: Warm wash only\n"
     ]
    }
   ],
   "source": [
    "def make_shirt(s = \"Large\", msg = \"I love Python\"):\n",
    "    print (f\"\\nShirt size is: {s}\")\n",
    "    print (f\"Important message: {msg}\")\n",
    "\n",
    "# This is the default large shirt\n",
    "make_shirt()\n",
    "\n",
    "# This is the medium shirt\n",
    "shirt_size=\"Medium\"\n",
    "make_shirt(s=shirt_size)\n",
    "\n",
    "# This is any size\n",
    "shirt_size = \"Small\"\n",
    "message= \"Warm wash only\"\n",
    "make_shirt(shirt_size,message)\n",
    "\n",
    "    "
   ]
  },
  {
   "cell_type": "markdown",
   "metadata": {},
   "source": [
    "8. Create a function for a multiplication table.  Get a number from a user and then call you function which produces a multiplication table for that number.\n",
    "The output should look something like this:\n",
    "\n",
    "        Enter a number: 3\n",
    "        3 X 1 = 3\n",
    "        3 X 2 = 6\n",
    "        3 X 3 = 9\n",
    "        3 X 4 = 12\n",
    "        3 X 5 = 15\n",
    "        3 X 6 = 18\n",
    "        3 X 7 = 21\n",
    "        3 X 8 = 24\n",
    "        3 X 9 = 27\n",
    "        "
   ]
  },
  {
   "cell_type": "code",
   "execution_count": 58,
   "metadata": {},
   "outputs": [
    {
     "name": "stdout",
     "output_type": "stream",
     "text": [
      "Enter a number: 3\n",
      "3 X 1 = 3\n",
      "3 X 2 = 6\n",
      "3 X 3 = 9\n",
      "3 X 4 = 12\n",
      "3 X 5 = 15\n",
      "3 X 6 = 18\n",
      "3 X 7 = 21\n",
      "3 X 8 = 24\n",
      "3 X 9 = 27\n"
     ]
    }
   ],
   "source": [
    "def mult_table(i1):\n",
    "    for x in range(1, 10):\n",
    "        print(f\"{i1} X {x} = {i1*x}\")    \n",
    "\n",
    "unum = int(input(\"Enter a number: \"))\n",
    "mult_table(unum)"
   ]
  },
  {
   "cell_type": "markdown",
   "metadata": {},
   "source": [
    "9. Write a function that accepts a string and returns a string that is \n",
    "    - without any leading nor trailing blanks\n",
    "    - converts to all capital letters\n",
    "    - and replaces all blanks with a period(.).  \n",
    "\n",
    "Write a program to accept a string from a user then call your function and display the original string and changed string.  \n",
    "\n",
    "The output should look something like this:\n",
    "\n",
    "        Enter a text: may your dreams come true\n",
    "        \n",
    "        Original Text: may your dreams come true\n",
    "        New Text: MAY.YOUR.DREAMS.COME.TRUE"
   ]
  },
  {
   "cell_type": "code",
   "execution_count": 1,
   "metadata": {},
   "outputs": [
    {
     "name": "stdout",
     "output_type": "stream",
     "text": [
      "Enter a text:          Let's all get up and dance to a tune\n",
      "\n",
      "Original Text:          Let's all get up and dance to a tune\n",
      "New text:  LET'S.ALL.GET.UP.AND.DANCE.TO.A.TUNE\n"
     ]
    }
   ],
   "source": [
    "string1 = str(input(\"Enter a text: \"))\n",
    "print (f\"\\nOriginal Text: {string1}\")\n",
    "strings = string1.strip()\n",
    "stringu = strings.upper()\n",
    "print (f\"New text: \", stringu.replace(\" \", \".\"))\n"
   ]
  },
  {
   "cell_type": "markdown",
   "metadata": {},
   "source": [
    "10. Write a function that returns a randomly selected character from a passed string. Write a program to accept a string from a user then call your function and display the original string and selected character.\n",
    "\n",
    "The output should look something like this:\n",
    "\n",
    "        Enter a text: functions\n",
    "        Original Text:\tfunctions\n",
    "        Random character:\ts"
   ]
  },
  {
   "cell_type": "code",
   "execution_count": 20,
   "metadata": {},
   "outputs": [
    {
     "name": "stdout",
     "output_type": "stream",
     "text": [
      "Enter a text:  millenium\n",
      "9\n",
      "0\n",
      "Original Text:    millenium\n",
      "Random character:   m\n"
     ]
    }
   ],
   "source": [
    "import random as rand\n",
    "def select_char(string1):\n",
    "    str_len = len(string1)\n",
    "    # print (str_len)\n",
    "    ichar = rand.randint(0,str_len-1)\n",
    "    # print (ichar)\n",
    "    print (f\"Original Text:    {string1}\")\n",
    "    print (f\"Random character:   {string1[ichar]}\")\n",
    "    \n",
    "user_string = str(input(\"Enter a text:  \"))\n",
    "select_char (user_string)"
   ]
  },
  {
   "cell_type": "code",
   "execution_count": null,
   "metadata": {},
   "outputs": [],
   "source": []
  }
 ],
 "metadata": {
  "kernelspec": {
   "display_name": "Python 3",
   "language": "python",
   "name": "python3"
  },
  "language_info": {
   "codemirror_mode": {
    "name": "ipython",
    "version": 3
   },
   "file_extension": ".py",
   "mimetype": "text/x-python",
   "name": "python",
   "nbconvert_exporter": "python",
   "pygments_lexer": "ipython3",
   "version": "3.8.8"
  }
 },
 "nbformat": 4,
 "nbformat_minor": 4
}
